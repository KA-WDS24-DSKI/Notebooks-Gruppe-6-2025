{
 "cells": [
  {
   "cell_type": "code",
   "execution_count": null,
   "id": "1d9eea27",
   "metadata": {},
   "outputs": [],
   "source": [
    "import pandas as pd\n",
    "import plotly.express as px\n",
    "import numpy as np\n",
    "import re\n",
    "\n",
    "\n",
    "df = pd.read_csv(\"Combined Data.csv\")\n",
    "df.drop(columns=[\"Unnamed: 0\"], inplace=True)\n",
    "\n",
    "df.statement = df.statement.str.lower()\n",
    "link_count = df.statement.str.count(r\"https?://\\S+\")\n",
    "link_count[link_count > 0]\n",
    "df.statement = df.statement.str.replace(r\"https?://\\S+|www\\.\\S+\", \"\", regex=True)\n",
    "df.statement = df.statement.str.replace(r\"@\\w+\", \"\", regex=True)\n",
    "df.statement = df.statement.str.replace(r\"[^\\w\\s]\", \"\", regex=True)\n",
    "df.dropna(subset=[\"statement\"], inplace=True)\n"
   ]
  },
  {
   "cell_type": "markdown",
   "id": "662c540d",
   "metadata": {},
   "source": [
    "## Tokenisierung"
   ]
  },
  {
   "cell_type": "code",
   "execution_count": null,
   "id": "7bb60781",
   "metadata": {},
   "outputs": [],
   "source": [
    "df[\"word_list\"] = df.statement.str.split()\n",
    "df.head()\n"
   ]
  },
  {
   "cell_type": "markdown",
   "id": "fd809c34",
   "metadata": {},
   "source": [
    "## Word Instances\n",
    "\n",
    "Die .csv Datei ist zu groß, um die Word Instances zu konkatenieren."
   ]
  },
  {
   "cell_type": "code",
   "execution_count": null,
   "id": "0142a364",
   "metadata": {},
   "outputs": [],
   "source": [
    "word_instance_head = np.concatenate(df[\"word_list\"].head().values)\n",
    "len(word_instance_head)"
   ]
  },
  {
   "cell_type": "code",
   "execution_count": null,
   "id": "e5e31e0a",
   "metadata": {},
   "outputs": [],
   "source": [
    "word_counts = df.statement.str.split(expand=True).stack().value_counts()\n",
    "word_counts = word_counts.reset_index()\n",
    "word_counts.columns = [\"word\", \"count\"]\n",
    "print(\"|V|=\", len(word_counts.word))\n",
    "\n",
    "word_counts.head()"
   ]
  }
 ],
 "metadata": {
  "kernelspec": {
   "display_name": ".venv",
   "language": "python",
   "name": "python3"
  },
  "language_info": {
   "codemirror_mode": {
    "name": "ipython",
    "version": 3
   },
   "file_extension": ".py",
   "mimetype": "text/x-python",
   "name": "python",
   "nbconvert_exporter": "python",
   "pygments_lexer": "ipython3",
   "version": "3.11.9"
  }
 },
 "nbformat": 4,
 "nbformat_minor": 5
}
